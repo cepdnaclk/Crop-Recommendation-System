{
  "nbformat": 4,
  "nbformat_minor": 0,
  "metadata": {
    "colab": {
      "provenance": []
    },
    "kernelspec": {
      "name": "python3",
      "display_name": "Python 3"
    },
    "language_info": {
      "name": "python"
    }
  },
  "cells": [
    {
      "cell_type": "code",
      "execution_count": 1,
      "metadata": {
        "colab": {
          "base_uri": "https://localhost:8080/"
        },
        "id": "oBhaXEskgtdN",
        "outputId": "6e819fca-ee2e-4ef9-d88b-66c3bbbf0d72"
      },
      "outputs": [
        {
          "output_type": "stream",
          "name": "stdout",
          "text": [
            "Drive already mounted at /content/drive; to attempt to forcibly remount, call drive.mount(\"/content/drive\", force_remount=True).\n"
          ]
        }
      ],
      "source": [
        "from google.colab import drive\n",
        "drive.mount('/content/drive')\n",
        "\n",
        "import pandas as pd\n",
        "\n",
        "df_original = pd.read_csv('/content/drive/MyDrive/CO544/transformed_rainfall_data.csv')"
      ]
    },
    {
      "cell_type": "code",
      "source": [
        "# Assuming your dataframe is named 'df'\n",
        "df = df_original[~df_original.index.isin([0, 1])]"
      ],
      "metadata": {
        "id": "-RApT8oWoKuJ"
      },
      "execution_count": 2,
      "outputs": []
    },
    {
      "cell_type": "code",
      "source": [
        "import pandas as pd\n",
        "from sklearn.model_selection import train_test_split\n",
        "import numpy as np\n",
        "\n",
        "# Assuming your data is loaded into a DataFrame named 'df'\n",
        "\n",
        "# Convert the date column to datetime format\n",
        "df['Date'] = pd.to_datetime(df['Date'], format='%Y%m%d')\n",
        "\n",
        "# Extracting day of the year as a feature\n",
        "df['DayOfYear'] = df['Date'].dt.dayofyear\n",
        "\n",
        "# Select features and target\n",
        "features = ['DayOfYear']\n",
        "targets = ['Vavuniya', 'Anuradhapura', 'Maha Illuppallama']\n",
        "\n",
        "# Feature engineering\n",
        "\n",
        "# Lag features (previous day's value)\n",
        "for target in targets:\n",
        "  df[f'{target}_lag1'] = df[target].shift(1)\n",
        "\n",
        "# Rolling mean (weekly window)\n",
        "window_size = 7  # You can experiment with different window sizes\n",
        "for target in targets:\n",
        "  df[f'{target}_rolling_mean_{window_size}'] = df[target].rolling(window=window_size).mean()\n",
        "\n",
        "# Month and Weekday features\n",
        "# df['Month'] = df['Date'].dt.month\n",
        "# df['Is_Weekend'] = np.where(df['Date'].dt.weekday_name.isin(['Saturday', 'Sunday']), 1, 0)\n",
        "\n",
        "# After feature engineering\n",
        "df.dropna(inplace=True)  # Drop rows with any NaN values\n",
        "\n",
        "# Splitting the data into training and testing sets\n",
        "X = df[features + [col for col in df.columns if col.endswith('_lag1') or col.endswith(f'_rolling_mean_{window_size}')]]  # Include engineered features\n",
        "y_vavuniya = df['Vavuniya']\n",
        "y_anuradhapura = df['Anuradhapura']\n",
        "y_maha = df['Maha Illuppallama']\n",
        "\n",
        "\n",
        "\n",
        "X_train, X_test, y_train_v, y_test_v = train_test_split(X, y_vavuniya, test_size=0.2, random_state=42)\n",
        "X_train, X_test, y_train_a, y_test_a = train_test_split(X, y_anuradhapura, test_size=0.2, random_state=42)\n",
        "X_train, X_test, y_train_m, y_test_m = train_test_split(X, y_maha, test_size=0.2, random_state=42)\n",
        "\n",
        "# ... (rest of your code for training and prediction)\n"
      ],
      "metadata": {
        "colab": {
          "base_uri": "https://localhost:8080/"
        },
        "id": "_q10JjawT6LH",
        "outputId": "c6ec679c-bbff-40f5-d045-13880c58c121"
      },
      "execution_count": 3,
      "outputs": [
        {
          "output_type": "stream",
          "name": "stderr",
          "text": [
            "<ipython-input-3-ab9b7845a373>:8: SettingWithCopyWarning: \n",
            "A value is trying to be set on a copy of a slice from a DataFrame.\n",
            "Try using .loc[row_indexer,col_indexer] = value instead\n",
            "\n",
            "See the caveats in the documentation: https://pandas.pydata.org/pandas-docs/stable/user_guide/indexing.html#returning-a-view-versus-a-copy\n",
            "  df['Date'] = pd.to_datetime(df['Date'], format='%Y%m%d')\n",
            "<ipython-input-3-ab9b7845a373>:11: SettingWithCopyWarning: \n",
            "A value is trying to be set on a copy of a slice from a DataFrame.\n",
            "Try using .loc[row_indexer,col_indexer] = value instead\n",
            "\n",
            "See the caveats in the documentation: https://pandas.pydata.org/pandas-docs/stable/user_guide/indexing.html#returning-a-view-versus-a-copy\n",
            "  df['DayOfYear'] = df['Date'].dt.dayofyear\n",
            "<ipython-input-3-ab9b7845a373>:21: SettingWithCopyWarning: \n",
            "A value is trying to be set on a copy of a slice from a DataFrame.\n",
            "Try using .loc[row_indexer,col_indexer] = value instead\n",
            "\n",
            "See the caveats in the documentation: https://pandas.pydata.org/pandas-docs/stable/user_guide/indexing.html#returning-a-view-versus-a-copy\n",
            "  df[f'{target}_lag1'] = df[target].shift(1)\n",
            "<ipython-input-3-ab9b7845a373>:21: SettingWithCopyWarning: \n",
            "A value is trying to be set on a copy of a slice from a DataFrame.\n",
            "Try using .loc[row_indexer,col_indexer] = value instead\n",
            "\n",
            "See the caveats in the documentation: https://pandas.pydata.org/pandas-docs/stable/user_guide/indexing.html#returning-a-view-versus-a-copy\n",
            "  df[f'{target}_lag1'] = df[target].shift(1)\n",
            "<ipython-input-3-ab9b7845a373>:21: SettingWithCopyWarning: \n",
            "A value is trying to be set on a copy of a slice from a DataFrame.\n",
            "Try using .loc[row_indexer,col_indexer] = value instead\n",
            "\n",
            "See the caveats in the documentation: https://pandas.pydata.org/pandas-docs/stable/user_guide/indexing.html#returning-a-view-versus-a-copy\n",
            "  df[f'{target}_lag1'] = df[target].shift(1)\n",
            "<ipython-input-3-ab9b7845a373>:26: SettingWithCopyWarning: \n",
            "A value is trying to be set on a copy of a slice from a DataFrame.\n",
            "Try using .loc[row_indexer,col_indexer] = value instead\n",
            "\n",
            "See the caveats in the documentation: https://pandas.pydata.org/pandas-docs/stable/user_guide/indexing.html#returning-a-view-versus-a-copy\n",
            "  df[f'{target}_rolling_mean_{window_size}'] = df[target].rolling(window=window_size).mean()\n",
            "<ipython-input-3-ab9b7845a373>:26: SettingWithCopyWarning: \n",
            "A value is trying to be set on a copy of a slice from a DataFrame.\n",
            "Try using .loc[row_indexer,col_indexer] = value instead\n",
            "\n",
            "See the caveats in the documentation: https://pandas.pydata.org/pandas-docs/stable/user_guide/indexing.html#returning-a-view-versus-a-copy\n",
            "  df[f'{target}_rolling_mean_{window_size}'] = df[target].rolling(window=window_size).mean()\n",
            "<ipython-input-3-ab9b7845a373>:26: SettingWithCopyWarning: \n",
            "A value is trying to be set on a copy of a slice from a DataFrame.\n",
            "Try using .loc[row_indexer,col_indexer] = value instead\n",
            "\n",
            "See the caveats in the documentation: https://pandas.pydata.org/pandas-docs/stable/user_guide/indexing.html#returning-a-view-versus-a-copy\n",
            "  df[f'{target}_rolling_mean_{window_size}'] = df[target].rolling(window=window_size).mean()\n",
            "<ipython-input-3-ab9b7845a373>:33: SettingWithCopyWarning: \n",
            "A value is trying to be set on a copy of a slice from a DataFrame\n",
            "\n",
            "See the caveats in the documentation: https://pandas.pydata.org/pandas-docs/stable/user_guide/indexing.html#returning-a-view-versus-a-copy\n",
            "  df.dropna(inplace=True)  # Drop rows with any NaN values\n"
          ]
        }
      ]
    },
    {
      "cell_type": "code",
      "source": [
        "from sklearn.ensemble import RandomForestRegressor\n",
        "\n",
        "# Initialize the model\n",
        "rfr_v = RandomForestRegressor()\n",
        "rfr_a = RandomForestRegressor()\n",
        "rfr_m = RandomForestRegressor()\n",
        "\n",
        "# Fit the model\n",
        "rfr_v.fit(X_train, y_train_v)\n",
        "rfr_a.fit(X_train, y_train_a)\n",
        "rfr_m.fit(X_train, y_train_m)\n",
        "\n",
        "# Predict\n",
        "y_pred_v = rfr_v.predict(X_test)\n",
        "y_pred_a = rfr_a.predict(X_test)\n",
        "y_pred_m = rfr_m.predict(X_test)\n",
        "\n",
        "# Evaluate the model\n",
        "mse_v = mean_squared_error(y_test_v, y_pred_v)\n",
        "mse_a = mean_squared_error(y_test_a, y_pred_a)\n",
        "mse_m = mean_squared_error(y_test_m, y_pred_m)\n",
        "\n",
        "print(f'Random Forest Regressor MSE for Vavuniya: {mse_v}')\n",
        "print(f'Random Forest Regressor MSE for Anuradhapura: {mse_a}')\n",
        "print(f'Random Forest Regressor MSE for Maha Illuppallama: {mse_m}')\n"
      ],
      "metadata": {
        "colab": {
          "base_uri": "https://localhost:8080/"
        },
        "id": "t3JvSOFu34s0",
        "outputId": "464c1f52-f1d8-4b47-8f53-ad039dce65e0"
      },
      "execution_count": 9,
      "outputs": [
        {
          "output_type": "stream",
          "name": "stdout",
          "text": [
            "Random Forest Regressor MSE for Vavuniya: 103.26701261792452\n",
            "Random Forest Regressor MSE for Anuradhapura: 185.31887045283014\n",
            "Random Forest Regressor MSE for Maha Illuppallama: 120.6375931698113\n"
          ]
        }
      ]
    },
    {
      "cell_type": "markdown",
      "source": [
        "##To get the higher efficiency"
      ],
      "metadata": {
        "id": "363S4Yin4Lxj"
      }
    },
    {
      "cell_type": "code",
      "source": [
        "from sklearn.model_selection import GridSearchCV\n",
        "from sklearn.ensemble import RandomForestRegressor\n",
        "from sklearn.metrics import mean_squared_error\n",
        "\n",
        "# Define the parameter grid\n",
        "param_grid = {\n",
        "    'n_estimators': [100, 200, 300],\n",
        "    'max_depth': [None, 10, 20, 30],\n",
        "    'min_samples_split': [2, 5, 10],\n",
        "    'min_samples_leaf': [1, 2, 4],\n",
        "    'max_features': ['auto', 'sqrt', 'log2'],\n",
        "    'bootstrap': [True, False]\n",
        "}\n",
        "\n",
        "# Define RandomForestRegressor instances for each target\n",
        "rfr_v = RandomForestRegressor(random_state=42)  # For Vavuniya\n",
        "rfr_a = RandomForestRegressor(random_state=42)  # For Anuradhapura\n",
        "rfr_m = RandomForestRegressor(random_state=42)  # For Maha Illuppallama\n",
        "\n",
        "# Perform Grid Search for each target\n",
        "grid_search_v = GridSearchCV(estimator=rfr_v, param_grid=param_grid, cv=3, n_jobs=-1, scoring='neg_mean_squared_error', verbose=2)\n",
        "grid_search_v.fit(X_train, y_train_v)\n",
        "\n",
        "grid_search_a = GridSearchCV(estimator=rfr_a, param_grid=param_grid, cv=3, n_jobs=-1, scoring='neg_mean_squared_error', verbose=2)\n",
        "grid_search_a.fit(X_train, y_train_a)\n",
        "\n",
        "grid_search_m = GridSearchCV(estimator=rfr_m, param_grid=param_grid, cv=3, n_jobs=-1, scoring='neg_mean_squared_error', verbose=2)\n",
        "grid_search_m.fit(X_train, y_train_m)\n",
        "\n",
        "# Get the best parameters\n",
        "best_params_v = grid_search_v.best_params_\n",
        "best_params_a = grid_search_a.best_params_\n",
        "best_params_m = grid_search_m.best_params_\n",
        "\n",
        "# Use the best parameters to initialize the final model\n",
        "rfr_v = RandomForestRegressor(**best_params_v)\n",
        "rfr_a = RandomForestRegressor(**best_params_a)\n",
        "rfr_m = RandomForestRegressor(**best_params_m)\n",
        "\n",
        "# Fit the models with the best parameters\n",
        "rfr_v.fit(X_train, y_train_v)\n",
        "rfr_a.fit(X_train, y_train_a)\n",
        "rfr_m.fit(X_train, y_train_m)\n",
        "\n",
        "# Predict with the tuned models\n",
        "y_pred_v = rfr_v.predict(X_test)\n",
        "y_pred_a = rfr_a.predict(X_test)\n",
        "y_pred_m = rfr_m.predict(X_test)\n",
        "\n",
        "# Evaluate the tuned models\n",
        "mse_v = mean_squared_error(y_test_v, y_pred_v)\n",
        "mse_a = mean_squared_error(y_test_a, y_pred_a)\n",
        "mse_m = mean_squared_error(y_test_m, y_pred_m)\n",
        "\n",
        "print(f'Tuned Random Forest Regressor MSE for Vavuniya: {mse_v}')\n",
        "print(f'Tuned Random Forest Regressor MSE for Anuradhapura: {mse_a}')\n",
        "print(f'Tuned Random Forest Regressor MSE for Maha Illuppallama: {mse_m}')\n"
      ],
      "metadata": {
        "colab": {
          "base_uri": "https://localhost:8080/"
        },
        "id": "CIas36KUeu0_",
        "outputId": "d5b274d9-d9de-4fc0-9d74-3d1de6f5362b"
      },
      "execution_count": 8,
      "outputs": [
        {
          "output_type": "stream",
          "name": "stdout",
          "text": [
            "Fitting 3 folds for each of 648 candidates, totalling 1944 fits\n",
            "Fitting 3 folds for each of 648 candidates, totalling 1944 fits\n",
            "Fitting 3 folds for each of 648 candidates, totalling 1944 fits\n",
            "Tuned Random Forest Regressor MSE for Vavuniya: 95.6342689670009\n",
            "Tuned Random Forest Regressor MSE for Anuradhapura: 121.12621125101145\n",
            "Tuned Random Forest Regressor MSE for Maha Illuppallama: 112.71575172264795\n"
          ]
        }
      ]
    }
  ]
}