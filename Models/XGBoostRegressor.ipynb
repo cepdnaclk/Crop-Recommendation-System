{
  "nbformat": 4,
  "nbformat_minor": 0,
  "metadata": {
    "colab": {
      "provenance": []
    },
    "kernelspec": {
      "name": "python3",
      "display_name": "Python 3"
    },
    "language_info": {
      "name": "python"
    }
  },
  "cells": [
    {
      "cell_type": "code",
      "execution_count": 1,
      "metadata": {
        "colab": {
          "base_uri": "https://localhost:8080/"
        },
        "id": "oBhaXEskgtdN",
        "outputId": "2aac73bc-1a79-4efc-aeb4-1f75b193fc1e"
      },
      "outputs": [
        {
          "output_type": "stream",
          "name": "stdout",
          "text": [
            "Mounted at /content/drive\n"
          ]
        }
      ],
      "source": [
        "from google.colab import drive\n",
        "drive.mount('/content/drive')\n",
        "\n",
        "import pandas as pd\n",
        "\n",
        "df_original = pd.read_csv('/content/drive/MyDrive/CO544/transformed_rainfall_data.csv')"
      ]
    },
    {
      "cell_type": "code",
      "source": [
        "# Assuming your dataframe is named 'df'\n",
        "df = df_original[~df_original.index.isin([0, 1])]"
      ],
      "metadata": {
        "id": "-RApT8oWoKuJ"
      },
      "execution_count": 2,
      "outputs": []
    },
    {
      "cell_type": "code",
      "source": [
        "import pandas as pd\n",
        "from sklearn.model_selection import train_test_split\n",
        "import numpy as np\n",
        "\n",
        "# Assuming your data is loaded into a DataFrame named 'df'\n",
        "\n",
        "# Convert the date column to datetime format\n",
        "df['Date'] = pd.to_datetime(df['Date'], format='%Y%m%d')\n",
        "\n",
        "# Extracting day of the year as a feature\n",
        "df['DayOfYear'] = df['Date'].dt.dayofyear\n",
        "\n",
        "# Select features and target\n",
        "features = ['DayOfYear']\n",
        "targets = ['Vavuniya', 'Anuradhapura', 'Maha Illuppallama']\n",
        "\n",
        "# Feature engineering\n",
        "\n",
        "# Lag features (previous day's value)\n",
        "for target in targets:\n",
        "  df[f'{target}_lag1'] = df[target].shift(1)\n",
        "\n",
        "# Rolling mean (weekly window)\n",
        "window_size = 7  # You can experiment with different window sizes\n",
        "for target in targets:\n",
        "  df[f'{target}_rolling_mean_{window_size}'] = df[target].rolling(window=window_size).mean()\n",
        "\n",
        "# Month and Weekday features\n",
        "# df['Month'] = df['Date'].dt.month\n",
        "# df['Is_Weekend'] = np.where(df['Date'].dt.weekday_name.isin(['Saturday', 'Sunday']), 1, 0)\n",
        "\n",
        "# After feature engineering\n",
        "df.dropna(inplace=True)  # Drop rows with any NaN values\n",
        "\n",
        "# Splitting the data into training and testing sets\n",
        "X = df[features + [col for col in df.columns if col.endswith('_lag1') or col.endswith(f'_rolling_mean_{window_size}')]]  # Include engineered features\n",
        "y_vavuniya = df['Vavuniya']\n",
        "y_anuradhapura = df['Anuradhapura']\n",
        "y_maha = df['Maha Illuppallama']\n",
        "\n",
        "\n",
        "\n",
        "X_train, X_test, y_train_v, y_test_v = train_test_split(X, y_vavuniya, test_size=0.2, random_state=42)\n",
        "X_train, X_test, y_train_a, y_test_a = train_test_split(X, y_anuradhapura, test_size=0.2, random_state=42)\n",
        "X_train, X_test, y_train_m, y_test_m = train_test_split(X, y_maha, test_size=0.2, random_state=42)\n",
        "\n",
        "# ... (rest of your code for training and prediction)\n"
      ],
      "metadata": {
        "colab": {
          "base_uri": "https://localhost:8080/"
        },
        "id": "_q10JjawT6LH",
        "outputId": "c166f09c-6eca-46f6-d5e4-1331ddca0ffc"
      },
      "execution_count": 3,
      "outputs": [
        {
          "output_type": "stream",
          "name": "stderr",
          "text": [
            "<ipython-input-3-ab9b7845a373>:8: SettingWithCopyWarning: \n",
            "A value is trying to be set on a copy of a slice from a DataFrame.\n",
            "Try using .loc[row_indexer,col_indexer] = value instead\n",
            "\n",
            "See the caveats in the documentation: https://pandas.pydata.org/pandas-docs/stable/user_guide/indexing.html#returning-a-view-versus-a-copy\n",
            "  df['Date'] = pd.to_datetime(df['Date'], format='%Y%m%d')\n",
            "<ipython-input-3-ab9b7845a373>:11: SettingWithCopyWarning: \n",
            "A value is trying to be set on a copy of a slice from a DataFrame.\n",
            "Try using .loc[row_indexer,col_indexer] = value instead\n",
            "\n",
            "See the caveats in the documentation: https://pandas.pydata.org/pandas-docs/stable/user_guide/indexing.html#returning-a-view-versus-a-copy\n",
            "  df['DayOfYear'] = df['Date'].dt.dayofyear\n",
            "<ipython-input-3-ab9b7845a373>:21: SettingWithCopyWarning: \n",
            "A value is trying to be set on a copy of a slice from a DataFrame.\n",
            "Try using .loc[row_indexer,col_indexer] = value instead\n",
            "\n",
            "See the caveats in the documentation: https://pandas.pydata.org/pandas-docs/stable/user_guide/indexing.html#returning-a-view-versus-a-copy\n",
            "  df[f'{target}_lag1'] = df[target].shift(1)\n",
            "<ipython-input-3-ab9b7845a373>:21: SettingWithCopyWarning: \n",
            "A value is trying to be set on a copy of a slice from a DataFrame.\n",
            "Try using .loc[row_indexer,col_indexer] = value instead\n",
            "\n",
            "See the caveats in the documentation: https://pandas.pydata.org/pandas-docs/stable/user_guide/indexing.html#returning-a-view-versus-a-copy\n",
            "  df[f'{target}_lag1'] = df[target].shift(1)\n",
            "<ipython-input-3-ab9b7845a373>:21: SettingWithCopyWarning: \n",
            "A value is trying to be set on a copy of a slice from a DataFrame.\n",
            "Try using .loc[row_indexer,col_indexer] = value instead\n",
            "\n",
            "See the caveats in the documentation: https://pandas.pydata.org/pandas-docs/stable/user_guide/indexing.html#returning-a-view-versus-a-copy\n",
            "  df[f'{target}_lag1'] = df[target].shift(1)\n",
            "<ipython-input-3-ab9b7845a373>:26: SettingWithCopyWarning: \n",
            "A value is trying to be set on a copy of a slice from a DataFrame.\n",
            "Try using .loc[row_indexer,col_indexer] = value instead\n",
            "\n",
            "See the caveats in the documentation: https://pandas.pydata.org/pandas-docs/stable/user_guide/indexing.html#returning-a-view-versus-a-copy\n",
            "  df[f'{target}_rolling_mean_{window_size}'] = df[target].rolling(window=window_size).mean()\n",
            "<ipython-input-3-ab9b7845a373>:26: SettingWithCopyWarning: \n",
            "A value is trying to be set on a copy of a slice from a DataFrame.\n",
            "Try using .loc[row_indexer,col_indexer] = value instead\n",
            "\n",
            "See the caveats in the documentation: https://pandas.pydata.org/pandas-docs/stable/user_guide/indexing.html#returning-a-view-versus-a-copy\n",
            "  df[f'{target}_rolling_mean_{window_size}'] = df[target].rolling(window=window_size).mean()\n",
            "<ipython-input-3-ab9b7845a373>:26: SettingWithCopyWarning: \n",
            "A value is trying to be set on a copy of a slice from a DataFrame.\n",
            "Try using .loc[row_indexer,col_indexer] = value instead\n",
            "\n",
            "See the caveats in the documentation: https://pandas.pydata.org/pandas-docs/stable/user_guide/indexing.html#returning-a-view-versus-a-copy\n",
            "  df[f'{target}_rolling_mean_{window_size}'] = df[target].rolling(window=window_size).mean()\n",
            "<ipython-input-3-ab9b7845a373>:33: SettingWithCopyWarning: \n",
            "A value is trying to be set on a copy of a slice from a DataFrame\n",
            "\n",
            "See the caveats in the documentation: https://pandas.pydata.org/pandas-docs/stable/user_guide/indexing.html#returning-a-view-versus-a-copy\n",
            "  df.dropna(inplace=True)  # Drop rows with any NaN values\n"
          ]
        }
      ]
    },
    {
      "cell_type": "code",
      "source": [
        "from xgboost import XGBRegressor\n",
        "from sklearn.metrics import mean_squared_error\n",
        "\n",
        "xgb_v = XGBRegressor()\n",
        "xgb_a = XGBRegressor()\n",
        "xgb_m = XGBRegressor()\n",
        "\n",
        "# Fit the models\n",
        "xgb_v.fit(X_train, y_train_v)\n",
        "xgb_a.fit(X_train, y_train_a)\n",
        "xgb_m.fit(X_train, y_train_m)\n",
        "\n",
        "# Predict and evaluate\n",
        "y_pred_v_xgb = xgb_v.predict(X_test)\n",
        "y_pred_a_xgb = xgb_a.predict(X_test)\n",
        "y_pred_m_xgb = xgb_m.predict(X_test)\n",
        "\n",
        "mse_v_xgb = mean_squared_error(y_test_v, y_pred_v_xgb)\n",
        "mse_a_xgb = mean_squared_error(y_test_a, y_pred_a_xgb)\n",
        "mse_m_xgb = mean_squared_error(y_test_m, y_pred_m_xgb)\n",
        "\n",
        "print(f'XGBoost Regressor MSE for Vavuniya: {mse_v_xgb}')\n",
        "print(f'XGBoost Regressor MSE for Anuradhapura: {mse_a_xgb}')\n",
        "print(f'XGBoost Regressor MSE for Maha Illuppallama: {mse_m_xgb}')\n"
      ],
      "metadata": {
        "colab": {
          "base_uri": "https://localhost:8080/"
        },
        "id": "-fG4Nd4-qiNZ",
        "outputId": "9dba0c2c-4da9-4f38-e138-1478e4c20ac7"
      },
      "execution_count": 5,
      "outputs": [
        {
          "output_type": "stream",
          "name": "stdout",
          "text": [
            "XGBoost Regressor MSE for Vavuniya: 106.23255745286858\n",
            "XGBoost Regressor MSE for Anuradhapura: 113.44587578536905\n",
            "XGBoost Regressor MSE for Maha Illuppallama: 134.93988195148313\n"
          ]
        }
      ]
    }
  ]
}